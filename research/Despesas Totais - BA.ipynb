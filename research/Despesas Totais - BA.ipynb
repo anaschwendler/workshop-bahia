{
 "cells": [
  {
   "cell_type": "markdown",
   "metadata": {},
   "source": [
    "# Licitações - MPBA\n",
    "\n",
    "Datasets utilizados disponíveis em: https://www.mpba.mp.br/area/portaltransparencia/biblioteca/1417\n",
    "\n",
    "Para desenvolver podemos usar uma aproximação parecida com: https://github.com/rafapetter/suspeitando/blob/master/analise/licitacoes.ipynb"
   ]
  },
  {
   "cell_type": "code",
   "execution_count": 1,
   "metadata": {
    "collapsed": true
   },
   "outputs": [],
   "source": [
    "import pandas as pd\n",
    "import ezodf\n",
    "\n",
    "def read_ods(filename, sheet_no=0, header=0):\n",
    "    tab = ezodf.opendoc(filename=filename).sheets[sheet_no]\n",
    "    return pd.DataFrame({col[header].value:[x.value for x in col[header+1:]]\n",
    "                         for col in tab.columns()})"
   ]
  },
  {
   "cell_type": "code",
   "execution_count": 2,
   "metadata": {},
   "outputs": [
    {
     "data": {
      "text/plain": [
       "['../data/2_-_fevereiro_2017_-_licitacoes_-_planilha_editavel.ods',\n",
       " '../data/1_-_janeiro_2017_-_licitacoes_-_planilha_editavel.ods']"
      ]
     },
     "execution_count": 2,
     "metadata": {},
     "output_type": "execute_result"
    }
   ],
   "source": [
    "import glob\n",
    "\n",
    "licitations_filepaths = glob.glob('../data/*licitacoes_-_planilha_editavel.ods')\n",
    "licitations_filepaths"
   ]
  },
  {
   "cell_type": "code",
   "execution_count": 3,
   "metadata": {},
   "outputs": [
    {
     "name": "stdout",
     "output_type": "stream",
     "text": [
      "(1012, 33)\n"
     ]
    },
    {
     "data": {
      "text/html": [
       "<div>\n",
       "<style scoped>\n",
       "    .dataframe tbody tr th:only-of-type {\n",
       "        vertical-align: middle;\n",
       "    }\n",
       "\n",
       "    .dataframe tbody tr th {\n",
       "        vertical-align: top;\n",
       "    }\n",
       "\n",
       "    .dataframe thead th {\n",
       "        text-align: right;\n",
       "    }\n",
       "</style>\n",
       "<table border=\"1\" class=\"dataframe\">\n",
       "  <thead>\n",
       "    <tr style=\"text-align: right;\">\n",
       "      <th></th>\n",
       "      <th>DATA DE ENTRADA NA LICITAÇÃO</th>\n",
       "      <th>Nº DO SIMP\n",
       "PROCEDIMENTO</th>\n",
       "      <th>MODALIDADE</th>\n",
       "      <th>Nº\n",
       "CERTAME</th>\n",
       "      <th>RESPONSÁVEL PELA CONFECÇÃO DO EDITAL</th>\n",
       "      <th>UNID. ORÇAMENTÁRIA</th>\n",
       "      <th>None</th>\n",
       "      <th>UNID. GESTORA</th>\n",
       "      <th>Nº DA AUTORIZAÇÃO</th>\n",
       "      <th>OBJETO</th>\n",
       "      <th>...</th>\n",
       "      <th>ECONOMIA R$</th>\n",
       "      <th>EMPRESA VENCEDORA</th>\n",
       "      <th>CNPJ</th>\n",
       "      <th>SÓCIOS CPF</th>\n",
       "      <th>DATA DA HOMOLOGAÇÃO</th>\n",
       "      <th>Nº DA ARP</th>\n",
       "      <th>ÓRGÃO GERENCIADOR DA ATA</th>\n",
       "      <th>VALOR TOTAL DO REGISTRO DE PREÇOS</th>\n",
       "      <th>DATA DA PUBLICIDADE DA ARP</th>\n",
       "      <th>VIGÊNCIA DA ARP</th>\n",
       "    </tr>\n",
       "  </thead>\n",
       "  <tbody>\n",
       "    <tr>\n",
       "      <th>0</th>\n",
       "      <td>None</td>\n",
       "      <td>None</td>\n",
       "      <td>None</td>\n",
       "      <td>None</td>\n",
       "      <td>None</td>\n",
       "      <td>CÓDIGO</td>\n",
       "      <td>None</td>\n",
       "      <td>CÓDIGO</td>\n",
       "      <td>None</td>\n",
       "      <td>None</td>\n",
       "      <td>...</td>\n",
       "      <td>NaN</td>\n",
       "      <td>None</td>\n",
       "      <td>None</td>\n",
       "      <td>None</td>\n",
       "      <td>None</td>\n",
       "      <td>None</td>\n",
       "      <td>None</td>\n",
       "      <td>NaN</td>\n",
       "      <td>None</td>\n",
       "      <td>INÍCIO</td>\n",
       "    </tr>\n",
       "    <tr>\n",
       "      <th>1</th>\n",
       "      <td>2016-12-19</td>\n",
       "      <td>003.0.219210/2016</td>\n",
       "      <td>PREGÃO PRESENCIAL</td>\n",
       "      <td>01/2017</td>\n",
       "      <td>ALVARO</td>\n",
       "      <td>40.101</td>\n",
       "      <td>None</td>\n",
       "      <td>None</td>\n",
       "      <td>01/2016</td>\n",
       "      <td>SERVIÇO P/REALIZAÇÃO DE PROVAS ESTAGIARIOS</td>\n",
       "      <td>...</td>\n",
       "      <td>26000.00</td>\n",
       "      <td>INST. ESTUDOS PESQUISAS E DESENV. MUNICIPAL</td>\n",
       "      <td>40.645.707/0001-70</td>\n",
       "      <td>EDUARDO SILVA ALVES CPF 059820515-27 e ALBERTO...</td>\n",
       "      <td>None</td>\n",
       "      <td>0</td>\n",
       "      <td>None</td>\n",
       "      <td>60000.00</td>\n",
       "      <td>None</td>\n",
       "      <td>None</td>\n",
       "    </tr>\n",
       "    <tr>\n",
       "      <th>2</th>\n",
       "      <td>2016-10-10</td>\n",
       "      <td>003.0.211930/2016</td>\n",
       "      <td>PREGÃO ELETRÔNICO</td>\n",
       "      <td>86/2016</td>\n",
       "      <td>MONICA</td>\n",
       "      <td>40.101</td>\n",
       "      <td>None</td>\n",
       "      <td>40.101.0003</td>\n",
       "      <td>DA - 76/2016</td>\n",
       "      <td>REGISTRO DE PREÇOS DE REFRIGERADOR, BEBEDOUROS...</td>\n",
       "      <td>...</td>\n",
       "      <td>69.85</td>\n",
       "      <td>J. L. DO B GUIMARÃES</td>\n",
       "      <td>15.733.417/0001-30</td>\n",
       "      <td>LUCIANA MARIA PEREIRA - CPF 001.917.571-01</td>\n",
       "      <td>2017-01-27</td>\n",
       "      <td>03/2017</td>\n",
       "      <td>COORDENAÇÃO DE SUPRIMENTOS</td>\n",
       "      <td>6275.00</td>\n",
       "      <td>2017-02-07</td>\n",
       "      <td>2017-02-07</td>\n",
       "    </tr>\n",
       "    <tr>\n",
       "      <th>3</th>\n",
       "      <td>2016-10-10</td>\n",
       "      <td>003.0.211930/2016</td>\n",
       "      <td>PREGÃO ELETRÔNICO</td>\n",
       "      <td>86/2016</td>\n",
       "      <td>MONICA</td>\n",
       "      <td>40.101</td>\n",
       "      <td>None</td>\n",
       "      <td>40.101.0003</td>\n",
       "      <td>DA - 76/2016</td>\n",
       "      <td>REGISTRO DE PREÇOS DE REFRIGERADOR, BEBEDOUROS...</td>\n",
       "      <td>...</td>\n",
       "      <td>28.95</td>\n",
       "      <td>J. L. DO B GUIMARÃES</td>\n",
       "      <td>15.733.417/0001-30</td>\n",
       "      <td>LUCIANA MARIA PEREIRA - CPF 001.917.571-01</td>\n",
       "      <td>2017-01-27</td>\n",
       "      <td>03/2017</td>\n",
       "      <td>COORDENAÇÃO DE SUPRIMENTOS</td>\n",
       "      <td>6654.45</td>\n",
       "      <td>2017-02-07</td>\n",
       "      <td>2017-02-07</td>\n",
       "    </tr>\n",
       "    <tr>\n",
       "      <th>4</th>\n",
       "      <td>None</td>\n",
       "      <td>003.0.211930/2016</td>\n",
       "      <td>PREGÃO ELETRÔNICO</td>\n",
       "      <td>86/2016</td>\n",
       "      <td>MONICA</td>\n",
       "      <td>40.101</td>\n",
       "      <td>None</td>\n",
       "      <td>40.101.0003</td>\n",
       "      <td>DA - 76/2016</td>\n",
       "      <td>REGISTRO DE PREÇOS DE REFRIGERADOR, BEBEDOUROS...</td>\n",
       "      <td>...</td>\n",
       "      <td>679.70</td>\n",
       "      <td>MOURA EMPREENDIMENTOS COMERCIAIS LTDA</td>\n",
       "      <td>23.204.495/0001-76</td>\n",
       "      <td>PEDRO HENRIQUE DE MOURA - CPF 113.072.066-70; ...</td>\n",
       "      <td>2017-01-27</td>\n",
       "      <td>03/2017</td>\n",
       "      <td>COORDENAÇÃO DE SUPRIMENTOS</td>\n",
       "      <td>4000.00</td>\n",
       "      <td>2017-02-07</td>\n",
       "      <td>2017-02-07</td>\n",
       "    </tr>\n",
       "  </tbody>\n",
       "</table>\n",
       "<p>5 rows × 33 columns</p>\n",
       "</div>"
      ],
      "text/plain": [
       "  DATA DE ENTRADA NA LICITAÇÃO Nº DO SIMP\\nPROCEDIMENTO         MODALIDADE  \\\n",
       "0                         None                     None               None   \n",
       "1                   2016-12-19        003.0.219210/2016  PREGÃO PRESENCIAL   \n",
       "2                   2016-10-10        003.0.211930/2016  PREGÃO ELETRÔNICO   \n",
       "3                   2016-10-10        003.0.211930/2016  PREGÃO ELETRÔNICO   \n",
       "4                         None        003.0.211930/2016  PREGÃO ELETRÔNICO   \n",
       "\n",
       "  Nº\\nCERTAME RESPONSÁVEL PELA CONFECÇÃO DO EDITAL UNID. ORÇAMENTÁRIA   NaN  \\\n",
       "0        None                                 None             CÓDIGO  None   \n",
       "1     01/2017                               ALVARO             40.101  None   \n",
       "2     86/2016                               MONICA             40.101  None   \n",
       "3     86/2016                               MONICA             40.101  None   \n",
       "4     86/2016                               MONICA             40.101  None   \n",
       "\n",
       "  UNID. GESTORA Nº DA AUTORIZAÇÃO  \\\n",
       "0        CÓDIGO              None   \n",
       "1          None           01/2016   \n",
       "2   40.101.0003      DA - 76/2016   \n",
       "3   40.101.0003      DA - 76/2016   \n",
       "4   40.101.0003      DA - 76/2016   \n",
       "\n",
       "                                              OBJETO       ...         \\\n",
       "0                                               None       ...          \n",
       "1         SERVIÇO P/REALIZAÇÃO DE PROVAS ESTAGIARIOS       ...          \n",
       "2  REGISTRO DE PREÇOS DE REFRIGERADOR, BEBEDOUROS...       ...          \n",
       "3  REGISTRO DE PREÇOS DE REFRIGERADOR, BEBEDOUROS...       ...          \n",
       "4  REGISTRO DE PREÇOS DE REFRIGERADOR, BEBEDOUROS...       ...          \n",
       "\n",
       "  ECONOMIA R$                            EMPRESA VENCEDORA  \\\n",
       "0         NaN                                         None   \n",
       "1    26000.00  INST. ESTUDOS PESQUISAS E DESENV. MUNICIPAL   \n",
       "2       69.85                         J. L. DO B GUIMARÃES   \n",
       "3       28.95                         J. L. DO B GUIMARÃES   \n",
       "4      679.70        MOURA EMPREENDIMENTOS COMERCIAIS LTDA   \n",
       "\n",
       "                 CNPJ                                         SÓCIOS CPF  \\\n",
       "0                None                                               None   \n",
       "1  40.645.707/0001-70  EDUARDO SILVA ALVES CPF 059820515-27 e ALBERTO...   \n",
       "2  15.733.417/0001-30         LUCIANA MARIA PEREIRA - CPF 001.917.571-01   \n",
       "3  15.733.417/0001-30         LUCIANA MARIA PEREIRA - CPF 001.917.571-01   \n",
       "4  23.204.495/0001-76  PEDRO HENRIQUE DE MOURA - CPF 113.072.066-70; ...   \n",
       "\n",
       "  DATA DA HOMOLOGAÇÃO Nº DA ARP    ÓRGÃO GERENCIADOR DA ATA  \\\n",
       "0                None      None                        None   \n",
       "1                None         0                        None   \n",
       "2          2017-01-27   03/2017  COORDENAÇÃO DE SUPRIMENTOS   \n",
       "3          2017-01-27   03/2017  COORDENAÇÃO DE SUPRIMENTOS   \n",
       "4          2017-01-27   03/2017  COORDENAÇÃO DE SUPRIMENTOS   \n",
       "\n",
       "   VALOR TOTAL DO REGISTRO DE PREÇOS  DATA DA PUBLICIDADE DA ARP  \\\n",
       "0                                NaN                        None   \n",
       "1                           60000.00                        None   \n",
       "2                            6275.00                  2017-02-07   \n",
       "3                            6654.45                  2017-02-07   \n",
       "4                            4000.00                  2017-02-07   \n",
       "\n",
       "   VIGÊNCIA DA ARP  \n",
       "0          INÍCIO   \n",
       "1             None  \n",
       "2       2017-02-07  \n",
       "3       2017-02-07  \n",
       "4       2017-02-07  \n",
       "\n",
       "[5 rows x 33 columns]"
      ]
     },
     "execution_count": 3,
     "metadata": {},
     "output_type": "execute_result"
    }
   ],
   "source": [
    "datasets = pd.DataFrame()\n",
    "for licitation_filepath in licitations_filepaths:\n",
    "    subset = read_ods(licitation_filepath)\n",
    "    datasets = datasets.append(subset)\n",
    "print(datasets.shape)\n",
    "datasets.head()"
   ]
  },
  {
   "cell_type": "code",
   "execution_count": 4,
   "metadata": {},
   "outputs": [
    {
     "data": {
      "text/plain": [
       "Index([                   'DATA DE ENTRADA NA LICITAÇÃO',\n",
       "                              'Nº DO SIMP\\nPROCEDIMENTO',\n",
       "                                            'MODALIDADE',\n",
       "                                           'Nº\\nCERTAME',\n",
       "                  'RESPONSÁVEL PELA CONFECÇÃO DO EDITAL',\n",
       "                                    'UNID. ORÇAMENTÁRIA',\n",
       "                                                    None,\n",
       "                                         'UNID. GESTORA',\n",
       "                                     'Nº DA AUTORIZAÇÃO',\n",
       "                                                'OBJETO',\n",
       "                         'ESPECIFICAÇÃO DO ITEM/SERVIÇO',\n",
       "                                     'TIPO DA LICITAÇÃO',\n",
       "       'SITUAÇÃO (EM ANDAMENTO / CONCLUÍDO / CANCELADO)',\n",
       "                         'DATA DE PUBLICIDADE DO EDITAL',\n",
       "                    'DATA E HORA DE ABERTURA DO CERTAME',\n",
       "                                     'UNIDADE DE MEDIDA',\n",
       "                                   'QUANTIDADE PREVISTA',\n",
       "                                    'VALOR UNIT. ORÇADO',\n",
       "                                    'VALOR TOTAL ORÇADO',\n",
       "                               'VALOR UNITÁRIO LICITADO',\n",
       "                                  'VALOR TOTAL LICITADO',\n",
       "                                   'ECONOMIA % UNITÁRIO',\n",
       "                                      'ECONOMIA % TOTAL',\n",
       "                                           'ECONOMIA R$',\n",
       "                                     'EMPRESA VENCEDORA',\n",
       "                                                  'CNPJ',\n",
       "                                            'SÓCIOS CPF',\n",
       "                                   'DATA DA HOMOLOGAÇÃO',\n",
       "                                             'Nº DA ARP',\n",
       "                              'ÓRGÃO GERENCIADOR DA ATA',\n",
       "                     'VALOR TOTAL DO REGISTRO DE PREÇOS',\n",
       "                            'DATA DA PUBLICIDADE DA ARP',\n",
       "                                       'VIGÊNCIA DA ARP'],\n",
       "      dtype='object')"
      ]
     },
     "execution_count": 4,
     "metadata": {},
     "output_type": "execute_result"
    }
   ],
   "source": [
    "datasets.columns"
   ]
  },
  {
   "cell_type": "code",
   "execution_count": 5,
   "metadata": {},
   "outputs": [
    {
     "data": {
      "text/plain": [
       "DATA DE ENTRADA NA LICITAÇÃO                                                              2016-12-19\n",
       "Nº DO SIMP\\nPROCEDIMENTO                                                           003.0.219210/2016\n",
       "MODALIDADE                                                                         PREGÃO PRESENCIAL\n",
       "Nº\\nCERTAME                                                                                  01/2017\n",
       "RESPONSÁVEL PELA CONFECÇÃO DO EDITAL                                                          ALVARO\n",
       "UNID. ORÇAMENTÁRIA                                                                            40.101\n",
       "NaN                                                                                             None\n",
       "UNID. GESTORA                                                                                   None\n",
       "Nº DA AUTORIZAÇÃO                                                                            01/2016\n",
       "OBJETO                                                    SERVIÇO P/REALIZAÇÃO DE PROVAS ESTAGIARIOS\n",
       "ESPECIFICAÇÃO DO ITEM/SERVIÇO                              IT 1 - NÍVEL MÉDIO; IT 2 - NÍVEL SUPERIOR\n",
       "TIPO DA LICITAÇÃO                                                                        MENOR PREÇO\n",
       "SITUAÇÃO (EM ANDAMENTO / CONCLUÍDO / CANCELADO)                                            CONCLUÍDO\n",
       "DATA DE PUBLICIDADE DO EDITAL                                                             2017-01-17\n",
       "DATA E HORA DE ABERTURA DO CERTAME                                               27/01/2017 às 09h30\n",
       "UNIDADE DE MEDIDA                                                                                UN.\n",
       "QUANTIDADE PREVISTA                                                                                1\n",
       "VALOR UNIT. ORÇADO                                                                             86000\n",
       "VALOR TOTAL ORÇADO                                                                             86000\n",
       "VALOR UNITÁRIO LICITADO                                                                        60000\n",
       "VALOR TOTAL LICITADO                                                                           60000\n",
       "ECONOMIA % UNITÁRIO                                                                          30.2326\n",
       "ECONOMIA % TOTAL                                                                             30.2326\n",
       "ECONOMIA R$                                                                                    26000\n",
       "EMPRESA VENCEDORA                                        INST. ESTUDOS PESQUISAS E DESENV. MUNICIPAL\n",
       "CNPJ                                                                              40.645.707/0001-70\n",
       "SÓCIOS CPF                                         EDUARDO SILVA ALVES CPF 059820515-27 e ALBERTO...\n",
       "DATA DA HOMOLOGAÇÃO                                                                             None\n",
       "Nº DA ARP                                                                                          0\n",
       "ÓRGÃO GERENCIADOR DA ATA                                                                        None\n",
       "VALOR TOTAL DO REGISTRO DE PREÇOS                                                              60000\n",
       "DATA DA PUBLICIDADE DA ARP                                                                      None\n",
       "VIGÊNCIA DA ARP                                                                                 None\n",
       "Name: 1, dtype: object"
      ]
     },
     "execution_count": 5,
     "metadata": {},
     "output_type": "execute_result"
    }
   ],
   "source": [
    "datasets.iloc[1]"
   ]
  },
  {
   "cell_type": "markdown",
   "metadata": {},
   "source": [
    "## Total de gastos com licitações"
   ]
  },
  {
   "cell_type": "code",
   "execution_count": 6,
   "metadata": {},
   "outputs": [
    {
     "data": {
      "text/plain": [
       "1575199.1000000001"
      ]
     },
     "execution_count": 6,
     "metadata": {},
     "output_type": "execute_result"
    }
   ],
   "source": [
    "total_of_licitations = datasets['VALOR TOTAL LICITADO'].sum()\n",
    "total_of_licitations"
   ]
  },
  {
   "cell_type": "markdown",
   "metadata": {},
   "source": [
    "### Coisas a fazer:\n",
    "\n",
    "- Limpar cnpj\n",
    "- Ver qual cnpj recebeu mais de licitações\n",
    "- Analise do gráfico da curva de gastos\n",
    "- Ideias a vir"
   ]
  }
 ],
 "metadata": {
  "kernelspec": {
   "display_name": "Python 3",
   "language": "python",
   "name": "python3"
  },
  "language_info": {
   "codemirror_mode": {
    "name": "ipython",
    "version": 3
   },
   "file_extension": ".py",
   "mimetype": "text/x-python",
   "name": "python",
   "nbconvert_exporter": "python",
   "pygments_lexer": "ipython3",
   "version": "3.6.2"
  }
 },
 "nbformat": 4,
 "nbformat_minor": 2
}
